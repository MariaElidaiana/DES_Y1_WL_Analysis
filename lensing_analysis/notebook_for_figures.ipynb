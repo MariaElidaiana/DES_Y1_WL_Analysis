{
 "cells": [
  {
   "cell_type": "markdown",
   "metadata": {},
   "source": [
    "# Lensing figures\n",
    "\n",
    "Previously, I used the script `figure_routines.py` to create figures for the cluster lensing analysis. This notebook is being created to replace that."
   ]
  },
  {
   "cell_type": "code",
   "execution_count": 3,
   "metadata": {},
   "outputs": [],
   "source": [
    "import numpy as np\n",
    "from helper_functions import *\n",
    "from models import *\n",
    "import os, sys\n",
    "import matplotlib.pyplot as plt\n",
    "import matplotlib.gridspec as gridspec\n",
    "import blinding\n",
    "import cluster_toolkit as clusterwl"
   ]
  },
  {
   "cell_type": "code",
   "execution_count": 4,
   "metadata": {},
   "outputs": [],
   "source": [
    "#plt.rc(\"text\", usetex=True)\n",
    "plt.rc(\"font\", size=20, family=\"serif\")\n",
    "plt.rc(\"errorbar\", capsize=3)"
   ]
  },
  {
   "cell_type": "code",
   "execution_count": 5,
   "metadata": {},
   "outputs": [],
   "source": [
    "#Varous labels\n",
    "DSlabel = r\"$\\Delta\\Sigma\\ [{\\rm M}_\\odot$/pc$^2$]\"\n",
    "Rlabel  = r\"$R\\ [{\\rm Mpc}]$\"\n",
    "\n",
    "y1zlabels = [r\"$z\\in[0.2;0.35)$\", r\"$z\\in[0.35;0.5)$\", r\"$z\\in[0.5;0.65)$\"]\n",
    "y1llabels = [r\"$\\lambda\\in[5;10)$\",r\"$\\lambda\\in[10;14)$\",r\"$\\lambda\\in[14;20)$\",\n",
    "             r\"$\\lambda\\in[20;30)$\",r\"$\\lambda\\in[30;45)$\",r\"$\\lambda\\in[45;60)$\",\n",
    "             r\"$\\lambda\\in[60;\\infty)$\"]\n",
    "\n",
    "svzlabels = [r\"$z\\in[0.2,0.4)$\",r\"$z\\in[0.4,0.6)$\",r\"$z\\in[0.6,0.8)$\"]\n",
    "svllabels = [r\"$\\lambda\\in[5;10)$\",r\"$\\lambda\\in[10;14)$\",r\"$\\lambda\\in[14;20)$\",\n",
    "             r\"$\\lambda\\in[20;35)$\",r\"$\\lambda\\in[35;180)$\"]"
   ]
  },
  {
   "cell_type": "code",
   "execution_count": 6,
   "metadata": {},
   "outputs": [
    {
     "name": "stdout",
     "output_type": "stream",
     "text": [
      "('unmodified Bcov: ', array([6.61284244e-05, 2.84565524e-05, 1.80935411e-05, 1.41297254e-05,\n",
      "       1.19632655e-05, 9.08484519e-06, 5.60752381e-06, 2.94660105e-06,\n",
      "       1.30479707e-06, 2.60806881e-07]))\n",
      "('Hartlap factor: ', 1.125)\n",
      "\t'name':Y1 supplied, using a pre-defined cosmology.\n"
     ]
    }
   ],
   "source": [
    "#Example of data to use\n",
    "model_name = \"full\"\n",
    "name = \"Y1\"\n",
    "zi, lj = 0, 3\n",
    "blinded = False\n",
    "args = get_args(model_name, zi, lj, name, \"SAC\", blinded)"
   ]
  },
  {
   "cell_type": "code",
   "execution_count": 25,
   "metadata": {},
   "outputs": [],
   "source": [
    "#Set up the assumptions\n",
    "h = args['h'] #Hubble constant\n",
    "om = args['Omega_m']\n",
    "z = args[\"z\"]\n",
    "lam = args[\"lam\"]"
   ]
  },
  {
   "cell_type": "code",
   "execution_count": 26,
   "metadata": {},
   "outputs": [
    {
     "data": {
      "text/plain": [
       "Text(0,0.5,'$\\\\Delta\\\\Sigma\\\\ [{\\\\rm M}_\\\\odot$/pc$^2$]')"
      ]
     },
     "execution_count": 26,
     "metadata": {},
     "output_type": "execute_result"
    },
    {
     "data": {
      "image/png": "[encoded data removed]",
      "text/plain": [
       "<Figure size 432x288 with 1 Axes>"
      ]
     },
     "metadata": {},
     "output_type": "display_data"
    }
   ],
   "source": [
    "def add_lensing_data_to_axis(ax, args):\n",
    "    R = args[\"R_all\"]\n",
    "    R_cut = args[\"R_cut\"]\n",
    "    DS_all = args[\"DeltaSigma_all\"]\n",
    "    DS_cut = args[\"DeltaSigma_cut\"]\n",
    "    DSe_all = np.sqrt(args[\"C_all\"].diagonal())\n",
    "    ax.errorbar(R, DS_all, DSe_all, ls=\"\", marker='o')\n",
    "    return\n",
    "fig, ax = plt.subplots()\n",
    "add_lensing_data_to_axis(ax, args)\n",
    "ax.loglog()\n",
    "xlim = ax.set_xlim(0.2, 30.)\n",
    "ax.set_xlabel(Rlabel)\n",
    "ax.set_ylabel(DSlabel)"
   ]
  },
  {
   "cell_type": "code",
   "execution_count": 17,
   "metadata": {},
   "outputs": [],
   "source": [
    "def get_best_unblinded_parameters(zi, lj):\n",
    "    mean_parameters_all_stacks = np.load(\"chains/parameter_means.npy\")\n",
    "    return mean_parameters_all_stacks[zi, lj-3]\n",
    "\n",
    "def get_bestfit_model(zi, lj, args):\n",
    "    params = get_best_unblinded_parameters(zi, lj)\n",
    "    print(params)\n",
    "    Rp, Sigma, Sigma_mis, DeltaSigma, DeltaSigma_mis, \\\n",
    "        full_DeltaSigma, ave_DeltaSigma, boost_model = get_delta_sigma(params, args)\n",
    "    return Rp, Sigma, Sigma_mis, DeltaSigma, DeltaSigma_mis, full_DeltaSigma, ave_DeltaSigma, boost_model"
   ]
  },
  {
   "cell_type": "code",
   "execution_count": 29,
   "metadata": {},
   "outputs": [
    {
     "name": "stdout",
     "output_type": "stream",
     "text": [
      "[14.0317582   5.81270129  0.17258234  0.27972637  1.02462786  0.34299125\n",
      "  0.43786744]\n"
     ]
    },
    {
     "data": {
      "text/plain": [
       "Text(0,0.5,'$\\\\Delta\\\\Sigma\\\\ [{\\\\rm M}_\\\\odot$/pc$^2$]')"
      ]
     },
     "execution_count": 29,
     "metadata": {},
     "output_type": "execute_result"
    },
    {
     "data": {
      "image/png": "[encoded data removed]",
      "text/plain": [
       "<Figure size 432x288 with 1 Axes>"
      ]
     },
     "metadata": {},
     "output_type": "display_data"
    }
   ],
   "source": [
    "def add_bestfit_model_to_axis(ax, zi, lj, args):\n",
    "    Rp, Sigma, Sigma_mis, DeltaSigma, DeltaSigma_mis, \\\n",
    "        full_DeltaSigma, ave_DeltaSigma, boost_model = get_bestfit_model(zi, lj, args)\n",
    "    ax.plot(Rp/(h*(1+z)), full_DeltaSigma*h*(1+z)**2, c='r')\n",
    "    return\n",
    "fig, ax = plt.subplots()\n",
    "add_lensing_data_to_axis(ax, args)\n",
    "add_bestfit_model_to_axis(ax, zi, lj, args)\n",
    "ax.loglog()\n",
    "xlim = ax.set_xlim(0.2, 30.)\n",
    "ylim = ax.set_ylim(.8, 1e2)\n",
    "ax.set_xlabel(Rlabel)\n",
    "ax.set_ylabel(DSlabel)"
   ]
  },
  {
   "cell_type": "code",
   "execution_count": null,
   "metadata": {},
   "outputs": [],
   "source": []
  }
 ],
 "metadata": {
  "kernelspec": {
   "display_name": "Python 2",
   "language": "python",
   "name": "python2"
  },
  "language_info": {
   "codemirror_mode": {
    "name": "ipython",
    "version": 2
   },
   "file_extension": ".py",
   "mimetype": "text/x-python",
   "name": "python",
   "nbconvert_exporter": "python",
   "pygments_lexer": "ipython2",
   "version": "2.7.13"
  }
 },
 "nbformat": 4,
 "nbformat_minor": 2
}
